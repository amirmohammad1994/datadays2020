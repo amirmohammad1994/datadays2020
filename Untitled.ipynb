{
 "cells": [
  {
   "cell_type": "code",
   "execution_count": 1,
   "metadata": {},
   "outputs": [],
   "source": [
    "import pandas as pd\n",
    "import numpy as np"
   ]
  },
  {
   "cell_type": "code",
   "execution_count": 2,
   "metadata": {},
   "outputs": [],
   "source": [
    "df_ev = pd.read_csv('event.csv')\n",
    "df_uv = pd.read_csv('user_page_view.csv')"
   ]
  },
  {
   "cell_type": "code",
   "execution_count": 52,
   "metadata": {},
   "outputs": [],
   "source": [
    "df_pg = pd.read_csv('page.csv')"
   ]
  },
  {
   "cell_type": "code",
   "execution_count": 3,
   "metadata": {},
   "outputs": [
    {
     "data": {
      "text/html": [
       "<div>\n",
       "<style scoped>\n",
       "    .dataframe tbody tr th:only-of-type {\n",
       "        vertical-align: middle;\n",
       "    }\n",
       "\n",
       "    .dataframe tbody tr th {\n",
       "        vertical-align: top;\n",
       "    }\n",
       "\n",
       "    .dataframe thead th {\n",
       "        text-align: right;\n",
       "    }\n",
       "</style>\n",
       "<table border=\"1\" class=\"dataframe\">\n",
       "  <thead>\n",
       "    <tr style=\"text-align: right;\">\n",
       "      <th></th>\n",
       "      <th>displayId</th>\n",
       "      <th>timestamp</th>\n",
       "      <th>pageId</th>\n",
       "      <th>widgetId</th>\n",
       "      <th>userId</th>\n",
       "      <th>device</th>\n",
       "      <th>OS</th>\n",
       "      <th>browser</th>\n",
       "    </tr>\n",
       "  </thead>\n",
       "  <tbody>\n",
       "    <tr>\n",
       "      <td>0</td>\n",
       "      <td>4706262</td>\n",
       "      <td>1578429005696</td>\n",
       "      <td>3543873</td>\n",
       "      <td>6262</td>\n",
       "      <td>2688642</td>\n",
       "      <td>0</td>\n",
       "      <td>0</td>\n",
       "      <td>0</td>\n",
       "    </tr>\n",
       "    <tr>\n",
       "      <td>1</td>\n",
       "      <td>4706267</td>\n",
       "      <td>1578429007726</td>\n",
       "      <td>6245475</td>\n",
       "      <td>607</td>\n",
       "      <td>2688641</td>\n",
       "      <td>1</td>\n",
       "      <td>3</td>\n",
       "      <td>0</td>\n",
       "    </tr>\n",
       "    <tr>\n",
       "      <td>2</td>\n",
       "      <td>4706260</td>\n",
       "      <td>1578429012060</td>\n",
       "      <td>4416499</td>\n",
       "      <td>11458</td>\n",
       "      <td>2688638</td>\n",
       "      <td>0</td>\n",
       "      <td>0</td>\n",
       "      <td>1</td>\n",
       "    </tr>\n",
       "    <tr>\n",
       "      <td>3</td>\n",
       "      <td>4706255</td>\n",
       "      <td>1578429017218</td>\n",
       "      <td>6246028</td>\n",
       "      <td>9358</td>\n",
       "      <td>1962852</td>\n",
       "      <td>0</td>\n",
       "      <td>0</td>\n",
       "      <td>0</td>\n",
       "    </tr>\n",
       "    <tr>\n",
       "      <td>4</td>\n",
       "      <td>4706256</td>\n",
       "      <td>1578429021388</td>\n",
       "      <td>5327047</td>\n",
       "      <td>9358</td>\n",
       "      <td>2687719</td>\n",
       "      <td>0</td>\n",
       "      <td>0</td>\n",
       "      <td>0</td>\n",
       "    </tr>\n",
       "  </tbody>\n",
       "</table>\n",
       "</div>"
      ],
      "text/plain": [
       "   displayId      timestamp   pageId  widgetId   userId  device  OS  browser\n",
       "0    4706262  1578429005696  3543873      6262  2688642       0   0        0\n",
       "1    4706267  1578429007726  6245475       607  2688641       1   3        0\n",
       "2    4706260  1578429012060  4416499     11458  2688638       0   0        1\n",
       "3    4706255  1578429017218  6246028      9358  1962852       0   0        0\n",
       "4    4706256  1578429021388  5327047      9358  2687719       0   0        0"
      ]
     },
     "execution_count": 3,
     "metadata": {},
     "output_type": "execute_result"
    }
   ],
   "source": [
    "df_ev.head()"
   ]
  },
  {
   "cell_type": "code",
   "execution_count": 4,
   "metadata": {},
   "outputs": [
    {
     "data": {
      "text/html": [
       "<div>\n",
       "<style scoped>\n",
       "    .dataframe tbody tr th:only-of-type {\n",
       "        vertical-align: middle;\n",
       "    }\n",
       "\n",
       "    .dataframe tbody tr th {\n",
       "        vertical-align: top;\n",
       "    }\n",
       "\n",
       "    .dataframe thead th {\n",
       "        text-align: right;\n",
       "    }\n",
       "</style>\n",
       "<table border=\"1\" class=\"dataframe\">\n",
       "  <thead>\n",
       "    <tr style=\"text-align: right;\">\n",
       "      <th></th>\n",
       "      <th>userId</th>\n",
       "      <th>pageId</th>\n",
       "      <th>timestamp</th>\n",
       "    </tr>\n",
       "  </thead>\n",
       "  <tbody>\n",
       "    <tr>\n",
       "      <td>0</td>\n",
       "      <td>821961</td>\n",
       "      <td>8116</td>\n",
       "      <td>1579599211445</td>\n",
       "    </tr>\n",
       "    <tr>\n",
       "      <td>1</td>\n",
       "      <td>15321</td>\n",
       "      <td>9533442</td>\n",
       "      <td>1579599211443</td>\n",
       "    </tr>\n",
       "    <tr>\n",
       "      <td>2</td>\n",
       "      <td>1125090</td>\n",
       "      <td>9410379</td>\n",
       "      <td>1579599211440</td>\n",
       "    </tr>\n",
       "    <tr>\n",
       "      <td>3</td>\n",
       "      <td>407101</td>\n",
       "      <td>8616213</td>\n",
       "      <td>1579599211429</td>\n",
       "    </tr>\n",
       "    <tr>\n",
       "      <td>4</td>\n",
       "      <td>781615</td>\n",
       "      <td>9543366</td>\n",
       "      <td>1579599211429</td>\n",
       "    </tr>\n",
       "  </tbody>\n",
       "</table>\n",
       "</div>"
      ],
      "text/plain": [
       "    userId   pageId      timestamp\n",
       "0   821961     8116  1579599211445\n",
       "1    15321  9533442  1579599211443\n",
       "2  1125090  9410379  1579599211440\n",
       "3   407101  8616213  1579599211429\n",
       "4   781615  9543366  1579599211429"
      ]
     },
     "execution_count": 4,
     "metadata": {},
     "output_type": "execute_result"
    }
   ],
   "source": [
    "df_uv.head()"
   ]
  },
  {
   "cell_type": "code",
   "execution_count": 53,
   "metadata": {},
   "outputs": [
    {
     "name": "stdout",
     "output_type": "stream",
     "text": [
      "<class 'pandas.core.frame.DataFrame'>\n",
      "RangeIndex: 10779259 entries, 0 to 10779258\n",
      "Data columns (total 3 columns):\n",
      "pageId       int64\n",
      "website      int64\n",
      "publisher    int64\n",
      "dtypes: int64(3)\n",
      "memory usage: 246.7 MB\n"
     ]
    }
   ],
   "source": [
    "df_pg.info()"
   ]
  },
  {
   "cell_type": "code",
   "execution_count": 54,
   "metadata": {},
   "outputs": [
    {
     "data": {
      "text/plain": [
       "10779259"
      ]
     },
     "execution_count": 54,
     "metadata": {},
     "output_type": "execute_result"
    }
   ],
   "source": [
    "df_pg['pageId'].nunique()"
   ]
  },
  {
   "cell_type": "code",
   "execution_count": 55,
   "metadata": {},
   "outputs": [
    {
     "data": {
      "text/plain": [
       "1265521"
      ]
     },
     "execution_count": 55,
     "metadata": {},
     "output_type": "execute_result"
    }
   ],
   "source": [
    "df_uv['pageId'].nunique()"
   ]
  },
  {
   "cell_type": "code",
   "execution_count": 56,
   "metadata": {},
   "outputs": [
    {
     "data": {
      "text/plain": [
       "188417"
      ]
     },
     "execution_count": 56,
     "metadata": {},
     "output_type": "execute_result"
    }
   ],
   "source": [
    "df_ev['pageId'].nunique()"
   ]
  },
  {
   "cell_type": "code",
   "execution_count": 27,
   "metadata": {},
   "outputs": [],
   "source": [
    "df_uvg = df_uv.groupby(['userId','pageId']).agg({'timestamp':'count'}).reset_index()"
   ]
  },
  {
   "cell_type": "code",
   "execution_count": 42,
   "metadata": {},
   "outputs": [],
   "source": [
    "df_evg = df_ev.groupby(['userId','pageId']).agg({'timestamp':'count'}).reset_index()"
   ]
  },
  {
   "cell_type": "code",
   "execution_count": 57,
   "metadata": {},
   "outputs": [
    {
     "data": {
      "text/html": [
       "<div>\n",
       "<style scoped>\n",
       "    .dataframe tbody tr th:only-of-type {\n",
       "        vertical-align: middle;\n",
       "    }\n",
       "\n",
       "    .dataframe tbody tr th {\n",
       "        vertical-align: top;\n",
       "    }\n",
       "\n",
       "    .dataframe thead th {\n",
       "        text-align: right;\n",
       "    }\n",
       "</style>\n",
       "<table border=\"1\" class=\"dataframe\">\n",
       "  <thead>\n",
       "    <tr style=\"text-align: right;\">\n",
       "      <th></th>\n",
       "      <th>userId</th>\n",
       "      <th>pageId</th>\n",
       "      <th>click_number</th>\n",
       "    </tr>\n",
       "  </thead>\n",
       "  <tbody>\n",
       "    <tr>\n",
       "      <td>409842</td>\n",
       "      <td>966002</td>\n",
       "      <td>9236347</td>\n",
       "      <td>1</td>\n",
       "    </tr>\n",
       "    <tr>\n",
       "      <td>285546</td>\n",
       "      <td>653019</td>\n",
       "      <td>9742835</td>\n",
       "      <td>1</td>\n",
       "    </tr>\n",
       "    <tr>\n",
       "      <td>937645</td>\n",
       "      <td>2619089</td>\n",
       "      <td>6293869</td>\n",
       "      <td>1</td>\n",
       "    </tr>\n",
       "    <tr>\n",
       "      <td>653449</td>\n",
       "      <td>1730421</td>\n",
       "      <td>7776612</td>\n",
       "      <td>1</td>\n",
       "    </tr>\n",
       "    <tr>\n",
       "      <td>337358</td>\n",
       "      <td>777770</td>\n",
       "      <td>9575312</td>\n",
       "      <td>1</td>\n",
       "    </tr>\n",
       "    <tr>\n",
       "      <td>811749</td>\n",
       "      <td>2213276</td>\n",
       "      <td>5946</td>\n",
       "      <td>1</td>\n",
       "    </tr>\n",
       "    <tr>\n",
       "      <td>562496</td>\n",
       "      <td>1445179</td>\n",
       "      <td>8249519</td>\n",
       "      <td>1</td>\n",
       "    </tr>\n",
       "    <tr>\n",
       "      <td>492968</td>\n",
       "      <td>1214949</td>\n",
       "      <td>6591079</td>\n",
       "      <td>1</td>\n",
       "    </tr>\n",
       "    <tr>\n",
       "      <td>807092</td>\n",
       "      <td>2192533</td>\n",
       "      <td>4141373</td>\n",
       "      <td>1</td>\n",
       "    </tr>\n",
       "    <tr>\n",
       "      <td>476938</td>\n",
       "      <td>1172174</td>\n",
       "      <td>8927437</td>\n",
       "      <td>1</td>\n",
       "    </tr>\n",
       "  </tbody>\n",
       "</table>\n",
       "</div>"
      ],
      "text/plain": [
       "         userId   pageId  click_number\n",
       "409842   966002  9236347             1\n",
       "285546   653019  9742835             1\n",
       "937645  2619089  6293869             1\n",
       "653449  1730421  7776612             1\n",
       "337358   777770  9575312             1\n",
       "811749  2213276     5946             1\n",
       "562496  1445179  8249519             1\n",
       "492968  1214949  6591079             1\n",
       "807092  2192533  4141373             1\n",
       "476938  1172174  8927437             1"
      ]
     },
     "execution_count": 57,
     "metadata": {},
     "output_type": "execute_result"
    }
   ],
   "source": [
    "df_evg.rename(columns={'timestamp': 'click_number'}, inplace=True)\n",
    "df_evg.sample(10)"
   ]
  },
  {
   "cell_type": "code",
   "execution_count": 33,
   "metadata": {},
   "outputs": [
    {
     "data": {
      "text/html": [
       "<div>\n",
       "<style scoped>\n",
       "    .dataframe tbody tr th:only-of-type {\n",
       "        vertical-align: middle;\n",
       "    }\n",
       "\n",
       "    .dataframe tbody tr th {\n",
       "        vertical-align: top;\n",
       "    }\n",
       "\n",
       "    .dataframe thead th {\n",
       "        text-align: right;\n",
       "    }\n",
       "</style>\n",
       "<table border=\"1\" class=\"dataframe\">\n",
       "  <thead>\n",
       "    <tr style=\"text-align: right;\">\n",
       "      <th></th>\n",
       "      <th>userId</th>\n",
       "      <th>pageId</th>\n",
       "      <th>visit_number</th>\n",
       "    </tr>\n",
       "  </thead>\n",
       "  <tbody>\n",
       "    <tr>\n",
       "      <td>19781769</td>\n",
       "      <td>1409137</td>\n",
       "      <td>6291819</td>\n",
       "      <td>1</td>\n",
       "    </tr>\n",
       "    <tr>\n",
       "      <td>13387778</td>\n",
       "      <td>841211</td>\n",
       "      <td>7214157</td>\n",
       "      <td>1</td>\n",
       "    </tr>\n",
       "    <tr>\n",
       "      <td>11660574</td>\n",
       "      <td>709309</td>\n",
       "      <td>7802536</td>\n",
       "      <td>1</td>\n",
       "    </tr>\n",
       "    <tr>\n",
       "      <td>18576901</td>\n",
       "      <td>1296653</td>\n",
       "      <td>9204744</td>\n",
       "      <td>1</td>\n",
       "    </tr>\n",
       "    <tr>\n",
       "      <td>16547593</td>\n",
       "      <td>1120448</td>\n",
       "      <td>8771568</td>\n",
       "      <td>1</td>\n",
       "    </tr>\n",
       "    <tr>\n",
       "      <td>10349837</td>\n",
       "      <td>629316</td>\n",
       "      <td>1171538</td>\n",
       "      <td>2</td>\n",
       "    </tr>\n",
       "    <tr>\n",
       "      <td>6646907</td>\n",
       "      <td>375355</td>\n",
       "      <td>6312049</td>\n",
       "      <td>1</td>\n",
       "    </tr>\n",
       "    <tr>\n",
       "      <td>23159736</td>\n",
       "      <td>1759730</td>\n",
       "      <td>332</td>\n",
       "      <td>1</td>\n",
       "    </tr>\n",
       "    <tr>\n",
       "      <td>28631495</td>\n",
       "      <td>2423841</td>\n",
       "      <td>8873807</td>\n",
       "      <td>2</td>\n",
       "    </tr>\n",
       "    <tr>\n",
       "      <td>9948252</td>\n",
       "      <td>601280</td>\n",
       "      <td>8454454</td>\n",
       "      <td>1</td>\n",
       "    </tr>\n",
       "  </tbody>\n",
       "</table>\n",
       "</div>"
      ],
      "text/plain": [
       "           userId   pageId  visit_number\n",
       "19781769  1409137  6291819             1\n",
       "13387778   841211  7214157             1\n",
       "11660574   709309  7802536             1\n",
       "18576901  1296653  9204744             1\n",
       "16547593  1120448  8771568             1\n",
       "10349837   629316  1171538             2\n",
       "6646907    375355  6312049             1\n",
       "23159736  1759730      332             1\n",
       "28631495  2423841  8873807             2\n",
       "9948252    601280  8454454             1"
      ]
     },
     "execution_count": 33,
     "metadata": {},
     "output_type": "execute_result"
    }
   ],
   "source": [
    "df_uvg.rename(columns={'timestamp': 'visit_number'}, inplace=True)\n",
    "df_uvg.sample(10)"
   ]
  },
  {
   "cell_type": "code",
   "execution_count": 51,
   "metadata": {},
   "outputs": [
    {
     "data": {
      "text/plain": [
       "15287"
      ]
     },
     "execution_count": 51,
     "metadata": {},
     "output_type": "execute_result"
    }
   ],
   "source": [
    "df_uvg['visit_number'].max()"
   ]
  },
  {
   "cell_type": "code",
   "execution_count": 58,
   "metadata": {},
   "outputs": [],
   "source": [
    "df_new = pd.merge(df_evg, df_uvg, how = 'inner', on = ['pageId','userId'])"
   ]
  },
  {
   "cell_type": "code",
   "execution_count": 40,
   "metadata": {},
   "outputs": [
    {
     "name": "stdout",
     "output_type": "stream",
     "text": [
      "<class 'pandas.core.frame.DataFrame'>\n",
      "Int64Index: 835634 entries, 0 to 835633\n",
      "Data columns (total 9 columns):\n",
      "displayId       835634 non-null int64\n",
      "timestamp       835634 non-null int64\n",
      "pageId          835634 non-null int64\n",
      "widgetId        835634 non-null int64\n",
      "userId          835634 non-null int64\n",
      "device          835634 non-null int64\n",
      "OS              835634 non-null int64\n",
      "browser         835634 non-null int64\n",
      "visit_number    835634 non-null int64\n",
      "dtypes: int64(9)\n",
      "memory usage: 63.8 MB\n"
     ]
    }
   ],
   "source": [
    "df_new.info()"
   ]
  },
  {
   "cell_type": "code",
   "execution_count": 60,
   "metadata": {},
   "outputs": [
    {
     "data": {
      "text/html": [
       "<div>\n",
       "<style scoped>\n",
       "    .dataframe tbody tr th:only-of-type {\n",
       "        vertical-align: middle;\n",
       "    }\n",
       "\n",
       "    .dataframe tbody tr th {\n",
       "        vertical-align: top;\n",
       "    }\n",
       "\n",
       "    .dataframe thead th {\n",
       "        text-align: right;\n",
       "    }\n",
       "</style>\n",
       "<table border=\"1\" class=\"dataframe\">\n",
       "  <thead>\n",
       "    <tr style=\"text-align: right;\">\n",
       "      <th></th>\n",
       "      <th>userId</th>\n",
       "      <th>pageId</th>\n",
       "      <th>click_number</th>\n",
       "      <th>visit_number</th>\n",
       "    </tr>\n",
       "  </thead>\n",
       "  <tbody>\n",
       "    <tr>\n",
       "      <td>293792</td>\n",
       "      <td>1292744</td>\n",
       "      <td>7364449</td>\n",
       "      <td>2</td>\n",
       "      <td>5</td>\n",
       "    </tr>\n",
       "    <tr>\n",
       "      <td>154609</td>\n",
       "      <td>865298</td>\n",
       "      <td>9000588</td>\n",
       "      <td>1</td>\n",
       "      <td>1</td>\n",
       "    </tr>\n",
       "    <tr>\n",
       "      <td>223743</td>\n",
       "      <td>1077655</td>\n",
       "      <td>8584670</td>\n",
       "      <td>1</td>\n",
       "      <td>1</td>\n",
       "    </tr>\n",
       "    <tr>\n",
       "      <td>449493</td>\n",
       "      <td>1796480</td>\n",
       "      <td>6996524</td>\n",
       "      <td>1</td>\n",
       "      <td>1</td>\n",
       "    </tr>\n",
       "    <tr>\n",
       "      <td>23509</td>\n",
       "      <td>140787</td>\n",
       "      <td>6376615</td>\n",
       "      <td>1</td>\n",
       "      <td>2</td>\n",
       "    </tr>\n",
       "    <tr>\n",
       "      <td>506307</td>\n",
       "      <td>1964083</td>\n",
       "      <td>21048</td>\n",
       "      <td>1</td>\n",
       "      <td>2</td>\n",
       "    </tr>\n",
       "    <tr>\n",
       "      <td>303918</td>\n",
       "      <td>1319126</td>\n",
       "      <td>7748115</td>\n",
       "      <td>1</td>\n",
       "      <td>2</td>\n",
       "    </tr>\n",
       "    <tr>\n",
       "      <td>569884</td>\n",
       "      <td>2143559</td>\n",
       "      <td>4094218</td>\n",
       "      <td>1</td>\n",
       "      <td>2</td>\n",
       "    </tr>\n",
       "    <tr>\n",
       "      <td>640101</td>\n",
       "      <td>2368966</td>\n",
       "      <td>31814</td>\n",
       "      <td>1</td>\n",
       "      <td>1</td>\n",
       "    </tr>\n",
       "    <tr>\n",
       "      <td>58294</td>\n",
       "      <td>366370</td>\n",
       "      <td>8533409</td>\n",
       "      <td>1</td>\n",
       "      <td>2</td>\n",
       "    </tr>\n",
       "  </tbody>\n",
       "</table>\n",
       "</div>"
      ],
      "text/plain": [
       "         userId   pageId  click_number  visit_number\n",
       "293792  1292744  7364449             2             5\n",
       "154609   865298  9000588             1             1\n",
       "223743  1077655  8584670             1             1\n",
       "449493  1796480  6996524             1             1\n",
       "23509    140787  6376615             1             2\n",
       "506307  1964083    21048             1             2\n",
       "303918  1319126  7748115             1             2\n",
       "569884  2143559  4094218             1             2\n",
       "640101  2368966    31814             1             1\n",
       "58294    366370  8533409             1             2"
      ]
     },
     "execution_count": 60,
     "metadata": {},
     "output_type": "execute_result"
    }
   ],
   "source": [
    "df_new.sample(10)"
   ]
  }
 ],
 "metadata": {
  "kernelspec": {
   "display_name": "firstEnv",
   "language": "python",
   "name": "firstenv"
  },
  "language_info": {
   "codemirror_mode": {
    "name": "ipython",
    "version": 3
   },
   "file_extension": ".py",
   "mimetype": "text/x-python",
   "name": "python",
   "nbconvert_exporter": "python",
   "pygments_lexer": "ipython3",
   "version": "3.7.4"
  }
 },
 "nbformat": 4,
 "nbformat_minor": 2
}

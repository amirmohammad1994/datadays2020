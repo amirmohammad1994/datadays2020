{
 "cells": [
  {
   "cell_type": "code",
   "execution_count": null,
   "metadata": {},
   "outputs": [],
   "source": [
    "import pandas as pd\n",
    "import matplotlib.pyplot as plt\n",
    "import numpy as np"
   ]
  },
  {
   "cell_type": "code",
   "execution_count": null,
   "metadata": {},
   "outputs": [],
   "source": [
    "#reading click_train data\n",
    "click_train = pd.read_csv('click_train.csv')\n",
    "#reading click test data\n",
    "click_test = pd.read_csv('click_test.csv')\n",
    "#\n",
    "def random_permutaion(n):\n",
    "    result = []\n",
    "    for i in range(n):\n",
    "        result.append(i)\n",
    "    for i in range(n):\n",
    "        r = np.random.randint(n-i)\n",
    "        result[i] = result[r]\n",
    "#\n",
    "#click_test.sort_values(by=['displayId'], inplace=True)\n",
    "click_test_gp = click_test.groupby(['displayId'])\n",
    "num_of_slots = click_test_gp.apply(lambda f: len(f['displayId']))\n",
    "\n",
    "for index,display in click_test.iterrows():\n",
    "    print(display)\n"
   ]
  },
  {
   "cell_type": "code",
   "execution_count": null,
   "metadata": {},
   "outputs": [],
   "source": []
  }
 ],
 "metadata": {
  "kernelspec": {
   "display_name": "Python 3",
   "language": "python",
   "name": "python3"
  },
  "language_info": {
   "codemirror_mode": {
    "name": "ipython",
    "version": 3
   },
   "file_extension": ".py",
   "mimetype": "text/x-python",
   "name": "python",
   "nbconvert_exporter": "python",
   "pygments_lexer": "ipython3",
   "version": "3.7.3"
  }
 },
 "nbformat": 4,
 "nbformat_minor": 2
}

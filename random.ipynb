{
 "cells": [
  {
   "cell_type": "code",
   "execution_count": 15,
   "metadata": {},
   "outputs": [],
   "source": [
    "import pandas as pd\n",
    "import matplotlib.pyplot as plt\n",
    "import numpy as np"
   ]
  },
  {
   "cell_type": "code",
   "execution_count": 16,
   "metadata": {},
   "outputs": [],
   "source": [
    "#reading click_train data\n",
    "#click_train = pd.read_csv('click_train.csv')\n",
    "#reading click test data\n",
    "click_test = pd.read_csv('click_test.csv')\n",
    "click_test['result'] = 0\n",
    "#\n",
    "def random_permutation(n):\n",
    "    result = []\n",
    "    for i in range(n):\n",
    "        result.append(i)\n",
    "    for i in range(n):\n",
    "        r = np.random.randint(n-i)\n",
    "        t = result[i]\n",
    "        result[i] = result[i+r]\n",
    "        result[i+r] = t\n",
    "    return result\n",
    "#\n",
    "#click_test.sort_values(by=['displayId'], inplace=True)\n",
    "click_test_gp = click_test.groupby(['displayId'])\n",
    "num_of_slots = click_test_gp.apply(lambda f: len(f['displayId']))\n",
    "\n"
   ]
  },
  {
   "cell_type": "code",
   "execution_count": 25,
   "metadata": {},
   "outputs": [
    {
     "data": {
      "text/plain": [
       "displayId\n",
       "151650    3\n",
       "151938    6\n",
       "171024    2\n",
       "171025    2\n",
       "187341    4\n",
       "188283    2\n",
       "192056    4\n",
       "197052    3\n",
       "198557    4\n",
       "200025    5\n",
       "dtype: int64"
      ]
     },
     "execution_count": 25,
     "metadata": {},
     "output_type": "execute_result"
    }
   ],
   "source": [
    "num_of_slots.head(10)"
   ]
  },
  {
   "cell_type": "code",
   "execution_count": 44,
   "metadata": {},
   "outputs": [],
   "source": [
    "results = []\n",
    "displayIds = []\n",
    "adIds = []\n",
    "for name,group in click_test_gp:\n",
    "    random_ans = random_permutation(num_of_slots[name]) \n",
    "    in_group_idx = 0\n",
    "    for idx,row in group.iterrows():\n",
    "        row[\"result\"] = random_ans[in_group_idx]+1\n",
    "        in_group_idx += 1 \n",
    "        adIds.append(row[\"adId\"])\n",
    "        displayIds.append(row[\"displayId\"])\n",
    "        results.append(row[\"result\"])\n",
    "        \n"
   ]
  },
  {
   "cell_type": "code",
   "execution_count": 45,
   "metadata": {},
   "outputs": [
    {
     "data": {
      "text/html": [
       "<div>\n",
       "<style scoped>\n",
       "    .dataframe tbody tr th:only-of-type {\n",
       "        vertical-align: middle;\n",
       "    }\n",
       "\n",
       "    .dataframe tbody tr th {\n",
       "        vertical-align: top;\n",
       "    }\n",
       "\n",
       "    .dataframe thead th {\n",
       "        text-align: right;\n",
       "    }\n",
       "</style>\n",
       "<table border=\"1\" class=\"dataframe\">\n",
       "  <thead>\n",
       "    <tr style=\"text-align: right;\">\n",
       "      <th></th>\n",
       "      <th>displayId</th>\n",
       "      <th>addId</th>\n",
       "      <th>result</th>\n",
       "    </tr>\n",
       "  </thead>\n",
       "  <tbody>\n",
       "    <tr>\n",
       "      <th>0</th>\n",
       "      <td>151650</td>\n",
       "      <td>7585</td>\n",
       "      <td>2</td>\n",
       "    </tr>\n",
       "    <tr>\n",
       "      <th>1</th>\n",
       "      <td>151650</td>\n",
       "      <td>6257</td>\n",
       "      <td>3</td>\n",
       "    </tr>\n",
       "    <tr>\n",
       "      <th>2</th>\n",
       "      <td>151650</td>\n",
       "      <td>6690</td>\n",
       "      <td>1</td>\n",
       "    </tr>\n",
       "    <tr>\n",
       "      <th>3</th>\n",
       "      <td>151938</td>\n",
       "      <td>7454</td>\n",
       "      <td>1</td>\n",
       "    </tr>\n",
       "    <tr>\n",
       "      <th>4</th>\n",
       "      <td>151938</td>\n",
       "      <td>7370</td>\n",
       "      <td>2</td>\n",
       "    </tr>\n",
       "  </tbody>\n",
       "</table>\n",
       "</div>"
      ],
      "text/plain": [
       "   displayId  addId  result\n",
       "0     151650   7585       2\n",
       "1     151650   6257       3\n",
       "2     151650   6690       1\n",
       "3     151938   7454       1\n",
       "4     151938   7370       2"
      ]
     },
     "execution_count": 45,
     "metadata": {},
     "output_type": "execute_result"
    }
   ],
   "source": [
    "df = pd.DataFrame( {'displayId' : displayIds , 'addId' : adIds , 'result' : results} ) \n",
    "df.head()"
   ]
  },
  {
   "cell_type": "code",
   "execution_count": 30,
   "metadata": {},
   "outputs": [
    {
     "name": "stdout",
     "output_type": "stream",
     "text": [
      "<class 'pandas.core.frame.DataFrame'>\n",
      "RangeIndex: 1199048 entries, 0 to 1199047\n",
      "Data columns (total 3 columns):\n",
      "displayId    1199048 non-null int64\n",
      "adId         1199048 non-null int64\n",
      "result       1199048 non-null int64\n",
      "dtypes: int64(3)\n",
      "memory usage: 27.4 MB\n"
     ]
    }
   ],
   "source": []
  },
  {
   "cell_type": "code",
   "execution_count": 46,
   "metadata": {},
   "outputs": [],
   "source": [
    "df.to_csv(\"result.csv\", header=None, index=False)"
   ]
  },
  {
   "cell_type": "code",
   "execution_count": null,
   "metadata": {},
   "outputs": [],
   "source": []
  }
 ],
 "metadata": {
  "kernelspec": {
   "display_name": "Python 3",
   "language": "python",
   "name": "python3"
  },
  "language_info": {
   "codemirror_mode": {
    "name": "ipython",
    "version": 3
   },
   "file_extension": ".py",
   "mimetype": "text/x-python",
   "name": "python",
   "nbconvert_exporter": "python",
   "pygments_lexer": "ipython3",
   "version": "3.7.3"
  }
 },
 "nbformat": 4,
 "nbformat_minor": 2
}

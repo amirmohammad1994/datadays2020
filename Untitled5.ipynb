{
 "cells": [
  {
   "cell_type": "code",
   "execution_count": 1,
   "metadata": {},
   "outputs": [],
   "source": [
    "import pandas as pd\n",
    "import numpy as np\n",
    "from sklearn.cluster import KMeans\n",
    "import matplotlib.pyplot as plt\n",
    "from sklearn.feature_extraction import DictVectorizer"
   ]
  },
  {
   "cell_type": "code",
   "execution_count": null,
   "metadata": {},
   "outputs": [],
   "source": [
    "users = {-1}"
   ]
  },
  {
   "cell_type": "code",
   "execution_count": null,
   "metadata": {},
   "outputs": [],
   "source": [
    "def displayId_to_userId(displayId):\n",
    "    return display_to_user[displayId]"
   ]
  },
  {
   "cell_type": "code",
   "execution_count": null,
   "metadata": {},
   "outputs": [],
   "source": [
    "def userId_to_cluster(userId):\n",
    "    if (userId in user_to_cluster):\n",
    "        return user_to_cluster[userId]\n",
    "    else:\n",
    "        users.add(userId)\n",
    "        return 28"
   ]
  },
  {
   "cell_type": "code",
   "execution_count": null,
   "metadata": {},
   "outputs": [],
   "source": [
    "def addId_to_cluster(adId):\n",
    "    if (adId in ad_to_cluster):\n",
    "        return ad_to_cluster[adId]\n",
    "    else:\n",
    "        return 120"
   ]
  },
  {
   "cell_type": "code",
   "execution_count": null,
   "metadata": {},
   "outputs": [],
   "source": [
    "events_df = pd.read_csv('event.csv',skipinitialspace=True, usecols=[\"displayId\",\"userId\"])\n",
    "display_to_user = dict(zip(events_df.displayId, events_df.userId))"
   ]
  },
  {
   "cell_type": "code",
   "execution_count": null,
   "metadata": {},
   "outputs": [],
   "source": [
    "user_clusters_df = pd.read_csv('user_cluster.csv')\n",
    "user_to_cluster = dict(zip(user_clusters_df.userId, user_clusters_df.Cluster))"
   ]
  },
  {
   "cell_type": "code",
   "execution_count": null,
   "metadata": {},
   "outputs": [],
   "source": [
    "ad_clusters_df = pd.read_csv('ad_cluster.csv')\n",
    "ad_to_cluster = dict(zip(ad_clusters_df.adId, ad_clusters_df.Cluster))"
   ]
  },
  {
   "cell_type": "code",
   "execution_count": null,
   "metadata": {},
   "outputs": [],
   "source": [
    "click_train_df = pd.read_csv('../click_train.csv')\n",
    "click_train_df = click_train_df[click_train_df['clicked']==1]\n",
    "#print(click_train_df.head())\n",
    "click_train_df['adCluster'] = click_train_df['adId'].map(addId_to_cluster)\n",
    "click_train_df['userCluster'] = click_train_df['displayId'].map(displayId_to_userId).map(userId_to_cluster)\n",
    "#print(click_train_df.head())\n",
    "matrix_1 = pd.crosstab(click_train_df['userCluster'],click_train_df['adCluster'])\n",
    "print(matrix_1.head())\n",
    "print(matrix_1.info())"
   ]
  },
  {
   "cell_type": "code",
   "execution_count": null,
   "metadata": {},
   "outputs": [],
   "source": [
    "click_train_df = pd.read_csv('../click_train.csv')\n",
    "click_train_df = click_train_df[click_train_df['clicked']==0]\n",
    "#print(click_train_df.head())\n",
    "click_train_df['adCluster'] = click_train_df['adId'].map(addId_to_cluster)\n",
    "click_train_df['userCluster'] = click_train_df['displayId'].map(displayId_to_userId).map(userId_to_cluster)\n",
    "#print(click_train_df.head())\n",
    "matrix = pd.crosstab(click_train_df['userCluster'],click_train_df['adCluster'])\n",
    "print(matrix_2.head())\n",
    "print(matrix_2.info())"
   ]
  },
  {
   "cell_type": "code",
   "execution_count": null,
   "metadata": {},
   "outputs": [],
   "source": []
  }
 ],
 "metadata": {
  "kernelspec": {
   "display_name": "firstEnv",
   "language": "python",
   "name": "firstenv"
  },
  "language_info": {
   "codemirror_mode": {
    "name": "ipython",
    "version": 3
   },
   "file_extension": ".py",
   "mimetype": "text/x-python",
   "name": "python",
   "nbconvert_exporter": "python",
   "pygments_lexer": "ipython3",
   "version": "3.7.4"
  }
 },
 "nbformat": 4,
 "nbformat_minor": 2
}

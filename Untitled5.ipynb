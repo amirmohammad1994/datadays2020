{
 "cells": [
  {
   "cell_type": "code",
   "execution_count": 1,
   "metadata": {},
   "outputs": [],
   "source": [
    "import pandas as pd\n",
    "import numpy as np\n",
    "from sklearn.cluster import KMeans\n",
    "import matplotlib.pyplot as plt\n",
    "from sklearn.feature_extraction import DictVectorizer"
   ]
  },
  {
   "cell_type": "code",
   "execution_count": 2,
   "metadata": {},
   "outputs": [],
   "source": [
    "users = {-1}"
   ]
  },
  {
   "cell_type": "code",
   "execution_count": 3,
   "metadata": {},
   "outputs": [],
   "source": [
    "def displayId_to_userId(displayId):\n",
    "    return display_to_user[displayId]"
   ]
  },
  {
   "cell_type": "code",
   "execution_count": 4,
   "metadata": {},
   "outputs": [],
   "source": [
    "def userId_to_cluster(userId):\n",
    "    if (userId in user_to_cluster):\n",
    "        return user_to_cluster[userId]\n",
    "    else:\n",
    "        users.add(userId)\n",
    "        return 28"
   ]
  },
  {
   "cell_type": "code",
   "execution_count": 5,
   "metadata": {},
   "outputs": [],
   "source": [
    "def addId_to_cluster(adId):\n",
    "    if (adId in ad_to_cluster):\n",
    "        return ad_to_cluster[adId]\n",
    "    else:\n",
    "        return 120"
   ]
  },
  {
   "cell_type": "code",
   "execution_count": 6,
   "metadata": {},
   "outputs": [],
   "source": [
    "events_df = pd.read_csv('event.csv',skipinitialspace=True, usecols=[\"displayId\",\"userId\"])\n",
    "display_to_user = dict(zip(events_df.displayId, events_df.userId))"
   ]
  },
  {
   "cell_type": "code",
   "execution_count": 7,
   "metadata": {},
   "outputs": [],
   "source": [
    "user_clusters_df = pd.read_csv('user_cluster.csv')\n",
    "user_to_cluster = dict(zip(user_clusters_df.userId, user_clusters_df.Cluster))"
   ]
  },
  {
   "cell_type": "code",
   "execution_count": 8,
   "metadata": {},
   "outputs": [],
   "source": [
    "ad_clusters_df = pd.read_csv('ad_cluster.csv')\n",
    "ad_to_cluster = dict(zip(ad_clusters_df.adId, ad_clusters_df.Cluster))"
   ]
  },
  {
   "cell_type": "code",
   "execution_count": 9,
   "metadata": {},
   "outputs": [
    {
     "name": "stdout",
     "output_type": "stream",
     "text": [
      "adCluster    0    1    2    3    4    5    6    7    8    9    ...  111  112  \\\n",
      "userCluster                                                    ...             \n",
      "0              9   16  649  736  461  696  798   38   72  214  ...  161    4   \n",
      "1              5    1  109  191   32  100  278   22    4   10  ...   34    0   \n",
      "2              3   16  187  246  225  190  440    4   18  141  ...   54    0   \n",
      "3              3    2  251  367   87  237  192    5   47  114  ...   46    1   \n",
      "4              5    6  233  163  152  135  628    2    7   84  ...   89    1   \n",
      "\n",
      "adCluster    113  114  115  116  117  118   119  120  \n",
      "userCluster                                           \n",
      "0            376   76   33  140    1   47  1602   31  \n",
      "1            130   42    2   19    1    2    95    3  \n",
      "2            119   18   15   94    4    8   671    0  \n",
      "3             72   20   27   42    0   23   981   12  \n",
      "4            137   25    6  103    0    4   255   13  \n",
      "\n",
      "[5 rows x 118 columns]\n",
      "<class 'pandas.core.frame.DataFrame'>\n",
      "Int64Index: 29 entries, 0 to 28\n",
      "Columns: 118 entries, 0 to 120\n",
      "dtypes: int64(118)\n",
      "memory usage: 27.0 KB\n",
      "None\n"
     ]
    }
   ],
   "source": [
    "click_train_df = pd.read_csv('click_train.csv')\n",
    "click_train_df = click_train_df[click_train_df['clicked']==1]\n",
    "#print(click_train_df.head())\n",
    "click_train_df['adCluster'] = click_train_df['adId'].map(addId_to_cluster)\n",
    "click_train_df['userCluster'] = click_train_df['displayId'].map(displayId_to_userId).map(userId_to_cluster)\n",
    "#print(click_train_df.head())\n",
    "matrix_1 = pd.crosstab(click_train_df['userCluster'],click_train_df['adCluster'])\n",
    "print(matrix_1.head())\n",
    "print(matrix_1.info())"
   ]
  },
  {
   "cell_type": "code",
   "execution_count": 11,
   "metadata": {},
   "outputs": [
    {
     "name": "stdout",
     "output_type": "stream",
     "text": [
      "adCluster    0    1     2     3     4     5     6    7    8    9    ...  111  \\\n",
      "userCluster                                                         ...        \n",
      "0            170   87  2166  3064  1375  2273  2177  178  226  833  ...  396   \n",
      "1             81   12   441   892   130   414   877   85   17   59  ...   62   \n",
      "2             67   64   957  1005   705   627  1246   19   63  618  ...  216   \n",
      "3             41   30   766  1863   299   980   589   18  161  420  ...  145   \n",
      "4            133   41  1006   819   464   656  1825   35   35  268  ...  279   \n",
      "\n",
      "adCluster    112   113  114  115  116  117  118   119  120  \n",
      "userCluster                                                 \n",
      "0             67  1306  733  427  531   16  329  3815   97  \n",
      "1              4   307  167   30   45    3   15   283   29  \n",
      "2              4   463  128   98  366   14   43  1561   35  \n",
      "3             28   323  234  280  146   12  173  2735   47  \n",
      "4             19   537  203   66  267    4   31   780   47  \n",
      "\n",
      "[5 rows x 118 columns]\n",
      "<class 'pandas.core.frame.DataFrame'>\n",
      "Int64Index: 29 entries, 0 to 28\n",
      "Columns: 118 entries, 0 to 120\n",
      "dtypes: int64(118)\n",
      "memory usage: 27.0 KB\n",
      "None\n"
     ]
    }
   ],
   "source": [
    "click_train_df = pd.read_csv('click_train.csv')\n",
    "click_train_df = click_train_df[click_train_df['clicked']==0]\n",
    "#print(click_train_df.head())\n",
    "click_train_df['adCluster'] = click_train_df['adId'].map(addId_to_cluster)\n",
    "click_train_df['userCluster'] = click_train_df['displayId'].map(displayId_to_userId).map(userId_to_cluster)\n",
    "#print(click_train_df.head())\n",
    "matrix_2 = pd.crosstab(click_train_df['userCluster'],click_train_df['adCluster'])\n",
    "print(matrix_2.head())\n",
    "print(matrix_2.info())"
   ]
  },
  {
   "cell_type": "code",
   "execution_count": 12,
   "metadata": {},
   "outputs": [],
   "source": [
    "matrix = matrix_2*-1 + matrix_1*10"
   ]
  },
  {
   "cell_type": "code",
   "execution_count": 13,
   "metadata": {},
   "outputs": [
    {
     "name": "stdout",
     "output_type": "stream",
     "text": [
      "adCluster    0    1     2     3     4     5     6    7    8     9    ...  \\\n",
      "userCluster                                                          ...   \n",
      "0            -80   73  4324  4296  3235  4687  5803  202  494  1307  ...   \n",
      "1            -31   -2   649  1018   190   586  1903  135   23    41  ...   \n",
      "2            -37   96   913  1455  1545  1273  3154   21  117   792  ...   \n",
      "3            -11  -10  1744  1807   571  1390  1331   32  309   720  ...   \n",
      "4            -83   19  1324   811  1056   694  4455  -15   35   572  ...   \n",
      "\n",
      "adCluster     111  112   113  114  115  116  117  118    119  120  \n",
      "userCluster                                                        \n",
      "0            1214  -27  2454   27  -97  869   -6  141  12205  213  \n",
      "1             278   -4   993  253  -10  145    7    5    667    1  \n",
      "2             324   -4   727   52   52  574   26   37   5149  -35  \n",
      "3             315  -18   397  -34  -10  274  -12   57   7075   73  \n",
      "4             611   -9   833   47   -6  763   -4    9   1770   83  \n",
      "\n",
      "[5 rows x 118 columns]\n",
      "<class 'pandas.core.frame.DataFrame'>\n",
      "Int64Index: 29 entries, 0 to 28\n",
      "Columns: 118 entries, 0 to 120\n",
      "dtypes: int64(118)\n",
      "memory usage: 27.0 KB\n",
      "None\n"
     ]
    }
   ],
   "source": [
    "print(matrix.head())\n",
    "print(matrix.info())"
   ]
  }
 ],
 "metadata": {
  "kernelspec": {
   "display_name": "firstEnv",
   "language": "python",
   "name": "firstenv"
  },
  "language_info": {
   "codemirror_mode": {
    "name": "ipython",
    "version": 3
   },
   "file_extension": ".py",
   "mimetype": "text/x-python",
   "name": "python",
   "nbconvert_exporter": "python",
   "pygments_lexer": "ipython3",
   "version": "3.7.4"
  }
 },
 "nbformat": 4,
 "nbformat_minor": 2
}

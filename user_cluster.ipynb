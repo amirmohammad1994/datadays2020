{
 "cells": [
  {
   "cell_type": "code",
   "execution_count": 1,
   "metadata": {},
   "outputs": [],
   "source": [
    "import pandas as pd\n",
    "import numpy as np"
   ]
  },
  {
   "cell_type": "code",
   "execution_count": 2,
   "metadata": {},
   "outputs": [],
   "source": [
    "#df_ev = pd.read_csv('event.csv')\n",
    "df_uv = pd.read_csv('user_page_view.csv')"
   ]
  },
  {
   "cell_type": "code",
   "execution_count": 3,
   "metadata": {},
   "outputs": [],
   "source": [
    "df_pg = pd.read_csv('page_topic.csv')"
   ]
  },
  {
   "cell_type": "code",
   "execution_count": null,
   "metadata": {},
   "outputs": [],
   "source": [
    "df_ev.head()"
   ]
  },
  {
   "cell_type": "code",
   "execution_count": null,
   "metadata": {},
   "outputs": [],
   "source": [
    "df_uv.head()"
   ]
  },
  {
   "cell_type": "code",
   "execution_count": null,
   "metadata": {},
   "outputs": [],
   "source": [
    "df_uv.info()"
   ]
  },
  {
   "cell_type": "code",
   "execution_count": null,
   "metadata": {},
   "outputs": [],
   "source": [
    "df_pg['pageId'].nunique()"
   ]
  },
  {
   "cell_type": "code",
   "execution_count": null,
   "metadata": {},
   "outputs": [],
   "source": [
    "df_uv['pageId'].nunique()"
   ]
  },
  {
   "cell_type": "code",
   "execution_count": null,
   "metadata": {},
   "outputs": [],
   "source": [
    "df_ev['pageId'].nunique()"
   ]
  },
  {
   "cell_type": "code",
   "execution_count": 4,
   "metadata": {},
   "outputs": [],
   "source": [
    "df_uvg = df_uv.groupby(['userId','pageId']).agg({'timestamp':'count'}).reset_index()"
   ]
  },
  {
   "cell_type": "code",
   "execution_count": 4,
   "metadata": {},
   "outputs": [],
   "source": [
    "df_evg = df_ev.groupby(['userId','pageId']).agg({'timestamp':'count'}).reset_index()"
   ]
  },
  {
   "cell_type": "code",
   "execution_count": 5,
   "metadata": {},
   "outputs": [
    {
     "data": {
      "text/html": [
       "<div>\n",
       "<style scoped>\n",
       "    .dataframe tbody tr th:only-of-type {\n",
       "        vertical-align: middle;\n",
       "    }\n",
       "\n",
       "    .dataframe tbody tr th {\n",
       "        vertical-align: top;\n",
       "    }\n",
       "\n",
       "    .dataframe thead th {\n",
       "        text-align: right;\n",
       "    }\n",
       "</style>\n",
       "<table border=\"1\" class=\"dataframe\">\n",
       "  <thead>\n",
       "    <tr style=\"text-align: right;\">\n",
       "      <th></th>\n",
       "      <th>userId</th>\n",
       "      <th>pageId</th>\n",
       "      <th>timestamp</th>\n",
       "    </tr>\n",
       "  </thead>\n",
       "  <tbody>\n",
       "    <tr>\n",
       "      <td>0</td>\n",
       "      <td>8</td>\n",
       "      <td>6906796</td>\n",
       "      <td>1</td>\n",
       "    </tr>\n",
       "    <tr>\n",
       "      <td>1</td>\n",
       "      <td>8</td>\n",
       "      <td>9747176</td>\n",
       "      <td>1</td>\n",
       "    </tr>\n",
       "    <tr>\n",
       "      <td>2</td>\n",
       "      <td>22</td>\n",
       "      <td>10404661</td>\n",
       "      <td>1</td>\n",
       "    </tr>\n",
       "    <tr>\n",
       "      <td>3</td>\n",
       "      <td>30</td>\n",
       "      <td>10506468</td>\n",
       "      <td>1</td>\n",
       "    </tr>\n",
       "    <tr>\n",
       "      <td>4</td>\n",
       "      <td>44</td>\n",
       "      <td>104462</td>\n",
       "      <td>3</td>\n",
       "    </tr>\n",
       "    <tr>\n",
       "      <td>5</td>\n",
       "      <td>47</td>\n",
       "      <td>10386388</td>\n",
       "      <td>1</td>\n",
       "    </tr>\n",
       "    <tr>\n",
       "      <td>6</td>\n",
       "      <td>48</td>\n",
       "      <td>590</td>\n",
       "      <td>1</td>\n",
       "    </tr>\n",
       "    <tr>\n",
       "      <td>7</td>\n",
       "      <td>49</td>\n",
       "      <td>9664982</td>\n",
       "      <td>1</td>\n",
       "    </tr>\n",
       "    <tr>\n",
       "      <td>8</td>\n",
       "      <td>49</td>\n",
       "      <td>10518463</td>\n",
       "      <td>1</td>\n",
       "    </tr>\n",
       "    <tr>\n",
       "      <td>9</td>\n",
       "      <td>51</td>\n",
       "      <td>5501</td>\n",
       "      <td>1</td>\n",
       "    </tr>\n",
       "  </tbody>\n",
       "</table>\n",
       "</div>"
      ],
      "text/plain": [
       "   userId    pageId  timestamp\n",
       "0       8   6906796          1\n",
       "1       8   9747176          1\n",
       "2      22  10404661          1\n",
       "3      30  10506468          1\n",
       "4      44    104462          3\n",
       "5      47  10386388          1\n",
       "6      48       590          1\n",
       "7      49   9664982          1\n",
       "8      49  10518463          1\n",
       "9      51      5501          1"
      ]
     },
     "execution_count": 5,
     "metadata": {},
     "output_type": "execute_result"
    }
   ],
   "source": [
    "df_evg.head(10)"
   ]
  },
  {
   "cell_type": "code",
   "execution_count": null,
   "metadata": {},
   "outputs": [],
   "source": [
    "df_evg.rename(columns={'timestamp': 'click_number'}, inplace=True)\n",
    "df_evg.sample(10)"
   ]
  },
  {
   "cell_type": "code",
   "execution_count": 5,
   "metadata": {},
   "outputs": [
    {
     "data": {
      "text/html": [
       "<div>\n",
       "<style scoped>\n",
       "    .dataframe tbody tr th:only-of-type {\n",
       "        vertical-align: middle;\n",
       "    }\n",
       "\n",
       "    .dataframe tbody tr th {\n",
       "        vertical-align: top;\n",
       "    }\n",
       "\n",
       "    .dataframe thead th {\n",
       "        text-align: right;\n",
       "    }\n",
       "</style>\n",
       "<table border=\"1\" class=\"dataframe\">\n",
       "  <thead>\n",
       "    <tr style=\"text-align: right;\">\n",
       "      <th></th>\n",
       "      <th>userId</th>\n",
       "      <th>pageId</th>\n",
       "      <th>visit_number</th>\n",
       "    </tr>\n",
       "  </thead>\n",
       "  <tbody>\n",
       "    <tr>\n",
       "      <td>10503747</td>\n",
       "      <td>638142</td>\n",
       "      <td>1419926</td>\n",
       "      <td>1</td>\n",
       "    </tr>\n",
       "    <tr>\n",
       "      <td>21491132</td>\n",
       "      <td>1586985</td>\n",
       "      <td>8307155</td>\n",
       "      <td>1</td>\n",
       "    </tr>\n",
       "    <tr>\n",
       "      <td>10138487</td>\n",
       "      <td>614614</td>\n",
       "      <td>7445459</td>\n",
       "      <td>1</td>\n",
       "    </tr>\n",
       "    <tr>\n",
       "      <td>29881868</td>\n",
       "      <td>2626811</td>\n",
       "      <td>7516352</td>\n",
       "      <td>1</td>\n",
       "    </tr>\n",
       "    <tr>\n",
       "      <td>13948903</td>\n",
       "      <td>881373</td>\n",
       "      <td>9036035</td>\n",
       "      <td>2</td>\n",
       "    </tr>\n",
       "    <tr>\n",
       "      <td>18844107</td>\n",
       "      <td>1316466</td>\n",
       "      <td>7380658</td>\n",
       "      <td>1</td>\n",
       "    </tr>\n",
       "    <tr>\n",
       "      <td>28634424</td>\n",
       "      <td>2424240</td>\n",
       "      <td>7198665</td>\n",
       "      <td>1</td>\n",
       "    </tr>\n",
       "    <tr>\n",
       "      <td>16647889</td>\n",
       "      <td>1129614</td>\n",
       "      <td>8261562</td>\n",
       "      <td>1</td>\n",
       "    </tr>\n",
       "    <tr>\n",
       "      <td>17962781</td>\n",
       "      <td>1236049</td>\n",
       "      <td>33667</td>\n",
       "      <td>1</td>\n",
       "    </tr>\n",
       "    <tr>\n",
       "      <td>29851210</td>\n",
       "      <td>2621374</td>\n",
       "      <td>1708</td>\n",
       "      <td>1</td>\n",
       "    </tr>\n",
       "  </tbody>\n",
       "</table>\n",
       "</div>"
      ],
      "text/plain": [
       "           userId   pageId  visit_number\n",
       "10503747   638142  1419926             1\n",
       "21491132  1586985  8307155             1\n",
       "10138487   614614  7445459             1\n",
       "29881868  2626811  7516352             1\n",
       "13948903   881373  9036035             2\n",
       "18844107  1316466  7380658             1\n",
       "28634424  2424240  7198665             1\n",
       "16647889  1129614  8261562             1\n",
       "17962781  1236049    33667             1\n",
       "29851210  2621374     1708             1"
      ]
     },
     "execution_count": 5,
     "metadata": {},
     "output_type": "execute_result"
    }
   ],
   "source": [
    "df_uvg.rename(columns={'timestamp': 'visit_number'}, inplace=True)\n",
    "df_uvg.sample(10)"
   ]
  },
  {
   "cell_type": "code",
   "execution_count": null,
   "metadata": {},
   "outputs": [],
   "source": [
    "df_uvg['visit_number'].max()"
   ]
  },
  {
   "cell_type": "code",
   "execution_count": 8,
   "metadata": {},
   "outputs": [],
   "source": [
    "df_new = pd.merge(df_evg, df_uvg, how = 'inner', on = ['pageId','userId'])"
   ]
  },
  {
   "cell_type": "code",
   "execution_count": null,
   "metadata": {},
   "outputs": [],
   "source": [
    "df_new.info()"
   ]
  },
  {
   "cell_type": "code",
   "execution_count": null,
   "metadata": {},
   "outputs": [],
   "source": [
    "df_new.sample(10)"
   ]
  },
  {
   "cell_type": "code",
   "execution_count": 6,
   "metadata": {},
   "outputs": [
    {
     "data": {
      "text/html": [
       "<div>\n",
       "<style scoped>\n",
       "    .dataframe tbody tr th:only-of-type {\n",
       "        vertical-align: middle;\n",
       "    }\n",
       "\n",
       "    .dataframe tbody tr th {\n",
       "        vertical-align: top;\n",
       "    }\n",
       "\n",
       "    .dataframe thead th {\n",
       "        text-align: right;\n",
       "    }\n",
       "</style>\n",
       "<table border=\"1\" class=\"dataframe\">\n",
       "  <thead>\n",
       "    <tr style=\"text-align: right;\">\n",
       "      <th></th>\n",
       "      <th>userId</th>\n",
       "      <th>pageId</th>\n",
       "      <th>visit_number</th>\n",
       "      <th>topicId</th>\n",
       "      <th>confidence</th>\n",
       "    </tr>\n",
       "  </thead>\n",
       "  <tbody>\n",
       "    <tr>\n",
       "      <td>91259416</td>\n",
       "      <td>476119</td>\n",
       "      <td>31574</td>\n",
       "      <td>2</td>\n",
       "      <td>22</td>\n",
       "      <td>0.042292</td>\n",
       "    </tr>\n",
       "    <tr>\n",
       "      <td>9274074</td>\n",
       "      <td>2540232</td>\n",
       "      <td>6976548</td>\n",
       "      <td>1</td>\n",
       "      <td>39</td>\n",
       "      <td>0.187680</td>\n",
       "    </tr>\n",
       "    <tr>\n",
       "      <td>26961303</td>\n",
       "      <td>284975</td>\n",
       "      <td>7208019</td>\n",
       "      <td>6</td>\n",
       "      <td>45</td>\n",
       "      <td>0.054118</td>\n",
       "    </tr>\n",
       "    <tr>\n",
       "      <td>54639236</td>\n",
       "      <td>1821215</td>\n",
       "      <td>7712170</td>\n",
       "      <td>1</td>\n",
       "      <td>12</td>\n",
       "      <td>0.049520</td>\n",
       "    </tr>\n",
       "    <tr>\n",
       "      <td>869346</td>\n",
       "      <td>716356</td>\n",
       "      <td>8390990</td>\n",
       "      <td>2</td>\n",
       "      <td>33</td>\n",
       "      <td>0.172340</td>\n",
       "    </tr>\n",
       "    <tr>\n",
       "      <td>55472516</td>\n",
       "      <td>1962728</td>\n",
       "      <td>8659428</td>\n",
       "      <td>1</td>\n",
       "      <td>39</td>\n",
       "      <td>0.213381</td>\n",
       "    </tr>\n",
       "    <tr>\n",
       "      <td>55980766</td>\n",
       "      <td>242748</td>\n",
       "      <td>9511041</td>\n",
       "      <td>1</td>\n",
       "      <td>23</td>\n",
       "      <td>0.026883</td>\n",
       "    </tr>\n",
       "    <tr>\n",
       "      <td>16864473</td>\n",
       "      <td>1906895</td>\n",
       "      <td>8186228</td>\n",
       "      <td>1</td>\n",
       "      <td>37</td>\n",
       "      <td>0.928565</td>\n",
       "    </tr>\n",
       "    <tr>\n",
       "      <td>54134166</td>\n",
       "      <td>1546752</td>\n",
       "      <td>8688720</td>\n",
       "      <td>1</td>\n",
       "      <td>35</td>\n",
       "      <td>0.120956</td>\n",
       "    </tr>\n",
       "    <tr>\n",
       "      <td>60647361</td>\n",
       "      <td>2535290</td>\n",
       "      <td>7550060</td>\n",
       "      <td>1</td>\n",
       "      <td>4</td>\n",
       "      <td>0.034542</td>\n",
       "    </tr>\n",
       "  </tbody>\n",
       "</table>\n",
       "</div>"
      ],
      "text/plain": [
       "           userId   pageId  visit_number  topicId  confidence\n",
       "91259416   476119    31574             2       22    0.042292\n",
       "9274074   2540232  6976548             1       39    0.187680\n",
       "26961303   284975  7208019             6       45    0.054118\n",
       "54639236  1821215  7712170             1       12    0.049520\n",
       "869346     716356  8390990             2       33    0.172340\n",
       "55472516  1962728  8659428             1       39    0.213381\n",
       "55980766   242748  9511041             1       23    0.026883\n",
       "16864473  1906895  8186228             1       37    0.928565\n",
       "54134166  1546752  8688720             1       35    0.120956\n",
       "60647361  2535290  7550060             1        4    0.034542"
      ]
     },
     "execution_count": 6,
     "metadata": {},
     "output_type": "execute_result"
    }
   ],
   "source": [
    "df_new_2 = pd.merge(df_uvg, df_pg, how = 'inner', on = 'pageId')\n",
    "df_new_2.sample(10)"
   ]
  },
  {
   "cell_type": "code",
   "execution_count": 10,
   "metadata": {},
   "outputs": [
    {
     "name": "stdout",
     "output_type": "stream",
     "text": [
      "<class 'pandas.core.frame.DataFrame'>\n",
      "Int64Index: 99000107 entries, 0 to 99000106\n",
      "Data columns (total 6 columns):\n",
      "userId          int64\n",
      "pageId          int64\n",
      "visit_number    int64\n",
      "topicId         int64\n",
      "confidence      float64\n",
      "VC              float64\n",
      "dtypes: float64(2), int64(4)\n",
      "memory usage: 5.2 GB\n"
     ]
    }
   ],
   "source": [
    "df_new_2.info()"
   ]
  },
  {
   "cell_type": "code",
   "execution_count": 8,
   "metadata": {},
   "outputs": [],
   "source": [
    "df_new_2['VC'] = df_new_2['visit_number'] * df_new_2['confidence']"
   ]
  },
  {
   "cell_type": "code",
   "execution_count": 9,
   "metadata": {},
   "outputs": [],
   "source": [
    "user_feature = df_new_2.groupby(['userId','topicId'], as_index = True).\\\n",
    "                                        agg({'VC':'sum','visit_number':'sum'})"
   ]
  },
  {
   "cell_type": "code",
   "execution_count": 11,
   "metadata": {},
   "outputs": [],
   "source": [
    "del(df_new_2)"
   ]
  },
  {
   "cell_type": "code",
   "execution_count": null,
   "metadata": {},
   "outputs": [],
   "source": [
    "user_feature['VC'].var()"
   ]
  },
  {
   "cell_type": "code",
   "execution_count": 12,
   "metadata": {},
   "outputs": [
    {
     "name": "stdout",
     "output_type": "stream",
     "text": [
      "<class 'pandas.core.frame.DataFrame'>\n",
      "MultiIndex: 18361114 entries, (8, 0) to (2688642, 47)\n",
      "Data columns (total 2 columns):\n",
      "VC              float64\n",
      "visit_number    int64\n",
      "dtypes: float64(1), int64(1)\n",
      "memory usage: 373.7 MB\n"
     ]
    }
   ],
   "source": [
    "user_feature.info()"
   ]
  },
  {
   "cell_type": "code",
   "execution_count": 13,
   "metadata": {},
   "outputs": [
    {
     "data": {
      "text/plain": [
       "array([[<matplotlib.axes._subplots.AxesSubplot object at 0x00000253F01DC348>,\n",
       "        <matplotlib.axes._subplots.AxesSubplot object at 0x00000253F0397048>]],\n",
       "      dtype=object)"
      ]
     },
     "execution_count": 13,
     "metadata": {},
     "output_type": "execute_result"
    }
   ],
   "source": [
    "user_feature.hist(bins=30, figsize=(15, 10))"
   ]
  },
  {
   "cell_type": "code",
   "execution_count": null,
   "metadata": {},
   "outputs": [],
   "source": [
    "user_feature['like_point'] = user_feature['VC'] / user_feature['visit_number']"
   ]
  },
  {
   "cell_type": "code",
   "execution_count": 16,
   "metadata": {},
   "outputs": [
    {
     "data": {
      "text/plain": [
       "<matplotlib.axes._subplots.AxesSubplot at 0x253f0792b88>"
      ]
     },
     "execution_count": 16,
     "metadata": {},
     "output_type": "execute_result"
    },
    {
     "data": {
      "image/png": "[encoded data removed]",
      "text/plain": [
       "<Figure size 432x288 with 1 Axes>"
      ]
     },
     "metadata": {
      "needs_background": "light"
     },
     "output_type": "display_data"
    }
   ],
   "source": [
    "user_feature.boxplot(['like_point'])"
   ]
  },
  {
   "cell_type": "code",
   "execution_count": null,
   "metadata": {},
   "outputs": [],
   "source": [
    "user_feature.info()"
   ]
  },
  {
   "cell_type": "code",
   "execution_count": null,
   "metadata": {},
   "outputs": [],
   "source": [
    "user_feature.to_csv('user_feature.csv')"
   ]
  }
 ],
 "metadata": {
  "kernelspec": {
   "display_name": "firstEnv",
   "language": "python",
   "name": "firstenv"
  },
  "language_info": {
   "codemirror_mode": {
    "name": "ipython",
    "version": 3
   },
   "file_extension": ".py",
   "mimetype": "text/x-python",
   "name": "python",
   "nbconvert_exporter": "python",
   "pygments_lexer": "ipython3",
   "version": "3.7.4"
  }
 },
 "nbformat": 4,
 "nbformat_minor": 2
}

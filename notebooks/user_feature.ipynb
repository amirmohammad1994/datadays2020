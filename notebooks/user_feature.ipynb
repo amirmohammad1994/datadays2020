{
 "cells": [
  {
   "cell_type": "code",
   "execution_count": 1,
   "metadata": {},
   "outputs": [],
   "source": [
    "import pandas as pd\n",
    "import numpy as np"
   ]
  },
  {
   "cell_type": "code",
   "execution_count": 2,
   "metadata": {},
   "outputs": [],
   "source": [
    "df_ev = pd.read_csv('event.csv')\n",
    "df_uv = pd.read_csv('user_page_view.csv')"
   ]
  },
  {
   "cell_type": "code",
   "execution_count": 3,
   "metadata": {},
   "outputs": [],
   "source": [
    "df_pg = pd.read_csv('page_topic.csv')"
   ]
  },
  {
   "cell_type": "code",
   "execution_count": 3,
   "metadata": {},
   "outputs": [
    {
     "data": {
      "text/html": [
       "<div>\n",
       "<style scoped>\n",
       "    .dataframe tbody tr th:only-of-type {\n",
       "        vertical-align: middle;\n",
       "    }\n",
       "\n",
       "    .dataframe tbody tr th {\n",
       "        vertical-align: top;\n",
       "    }\n",
       "\n",
       "    .dataframe thead th {\n",
       "        text-align: right;\n",
       "    }\n",
       "</style>\n",
       "<table border=\"1\" class=\"dataframe\">\n",
       "  <thead>\n",
       "    <tr style=\"text-align: right;\">\n",
       "      <th></th>\n",
       "      <th>displayId</th>\n",
       "      <th>timestamp</th>\n",
       "      <th>pageId</th>\n",
       "      <th>widgetId</th>\n",
       "      <th>userId</th>\n",
       "      <th>device</th>\n",
       "      <th>OS</th>\n",
       "      <th>browser</th>\n",
       "    </tr>\n",
       "  </thead>\n",
       "  <tbody>\n",
       "    <tr>\n",
       "      <td>0</td>\n",
       "      <td>4706262</td>\n",
       "      <td>1578429005696</td>\n",
       "      <td>3543873</td>\n",
       "      <td>6262</td>\n",
       "      <td>2688642</td>\n",
       "      <td>0</td>\n",
       "      <td>0</td>\n",
       "      <td>0</td>\n",
       "    </tr>\n",
       "    <tr>\n",
       "      <td>1</td>\n",
       "      <td>4706267</td>\n",
       "      <td>1578429007726</td>\n",
       "      <td>6245475</td>\n",
       "      <td>607</td>\n",
       "      <td>2688641</td>\n",
       "      <td>1</td>\n",
       "      <td>3</td>\n",
       "      <td>0</td>\n",
       "    </tr>\n",
       "    <tr>\n",
       "      <td>2</td>\n",
       "      <td>4706260</td>\n",
       "      <td>1578429012060</td>\n",
       "      <td>4416499</td>\n",
       "      <td>11458</td>\n",
       "      <td>2688638</td>\n",
       "      <td>0</td>\n",
       "      <td>0</td>\n",
       "      <td>1</td>\n",
       "    </tr>\n",
       "    <tr>\n",
       "      <td>3</td>\n",
       "      <td>4706255</td>\n",
       "      <td>1578429017218</td>\n",
       "      <td>6246028</td>\n",
       "      <td>9358</td>\n",
       "      <td>1962852</td>\n",
       "      <td>0</td>\n",
       "      <td>0</td>\n",
       "      <td>0</td>\n",
       "    </tr>\n",
       "    <tr>\n",
       "      <td>4</td>\n",
       "      <td>4706256</td>\n",
       "      <td>1578429021388</td>\n",
       "      <td>5327047</td>\n",
       "      <td>9358</td>\n",
       "      <td>2687719</td>\n",
       "      <td>0</td>\n",
       "      <td>0</td>\n",
       "      <td>0</td>\n",
       "    </tr>\n",
       "  </tbody>\n",
       "</table>\n",
       "</div>"
      ],
      "text/plain": [
       "   displayId      timestamp   pageId  widgetId   userId  device  OS  browser\n",
       "0    4706262  1578429005696  3543873      6262  2688642       0   0        0\n",
       "1    4706267  1578429007726  6245475       607  2688641       1   3        0\n",
       "2    4706260  1578429012060  4416499     11458  2688638       0   0        1\n",
       "3    4706255  1578429017218  6246028      9358  1962852       0   0        0\n",
       "4    4706256  1578429021388  5327047      9358  2687719       0   0        0"
      ]
     },
     "execution_count": 3,
     "metadata": {},
     "output_type": "execute_result"
    }
   ],
   "source": [
    "df_ev.head()"
   ]
  },
  {
   "cell_type": "code",
   "execution_count": 4,
   "metadata": {},
   "outputs": [
    {
     "data": {
      "text/html": [
       "<div>\n",
       "<style scoped>\n",
       "    .dataframe tbody tr th:only-of-type {\n",
       "        vertical-align: middle;\n",
       "    }\n",
       "\n",
       "    .dataframe tbody tr th {\n",
       "        vertical-align: top;\n",
       "    }\n",
       "\n",
       "    .dataframe thead th {\n",
       "        text-align: right;\n",
       "    }\n",
       "</style>\n",
       "<table border=\"1\" class=\"dataframe\">\n",
       "  <thead>\n",
       "    <tr style=\"text-align: right;\">\n",
       "      <th></th>\n",
       "      <th>userId</th>\n",
       "      <th>pageId</th>\n",
       "      <th>timestamp</th>\n",
       "    </tr>\n",
       "  </thead>\n",
       "  <tbody>\n",
       "    <tr>\n",
       "      <td>0</td>\n",
       "      <td>821961</td>\n",
       "      <td>8116</td>\n",
       "      <td>1579599211445</td>\n",
       "    </tr>\n",
       "    <tr>\n",
       "      <td>1</td>\n",
       "      <td>15321</td>\n",
       "      <td>9533442</td>\n",
       "      <td>1579599211443</td>\n",
       "    </tr>\n",
       "    <tr>\n",
       "      <td>2</td>\n",
       "      <td>1125090</td>\n",
       "      <td>9410379</td>\n",
       "      <td>1579599211440</td>\n",
       "    </tr>\n",
       "    <tr>\n",
       "      <td>3</td>\n",
       "      <td>407101</td>\n",
       "      <td>8616213</td>\n",
       "      <td>1579599211429</td>\n",
       "    </tr>\n",
       "    <tr>\n",
       "      <td>4</td>\n",
       "      <td>781615</td>\n",
       "      <td>9543366</td>\n",
       "      <td>1579599211429</td>\n",
       "    </tr>\n",
       "  </tbody>\n",
       "</table>\n",
       "</div>"
      ],
      "text/plain": [
       "    userId   pageId      timestamp\n",
       "0   821961     8116  1579599211445\n",
       "1    15321  9533442  1579599211443\n",
       "2  1125090  9410379  1579599211440\n",
       "3   407101  8616213  1579599211429\n",
       "4   781615  9543366  1579599211429"
      ]
     },
     "execution_count": 4,
     "metadata": {},
     "output_type": "execute_result"
    }
   ],
   "source": [
    "df_uv.head()"
   ]
  },
  {
   "cell_type": "code",
   "execution_count": 9,
   "metadata": {},
   "outputs": [
    {
     "name": "stdout",
     "output_type": "stream",
     "text": [
      "<class 'pandas.core.frame.DataFrame'>\n",
      "RangeIndex: 67229821 entries, 0 to 67229820\n",
      "Data columns (total 3 columns):\n",
      "userId       int64\n",
      "pageId       int64\n",
      "timestamp    int64\n",
      "dtypes: int64(3)\n",
      "memory usage: 1.5 GB\n"
     ]
    }
   ],
   "source": [
    "df_uv.info()"
   ]
  },
  {
   "cell_type": "code",
   "execution_count": 64,
   "metadata": {},
   "outputs": [
    {
     "data": {
      "text/plain": [
       "7025818"
      ]
     },
     "execution_count": 64,
     "metadata": {},
     "output_type": "execute_result"
    }
   ],
   "source": [
    "df_pg['pageId'].nunique()"
   ]
  },
  {
   "cell_type": "code",
   "execution_count": 55,
   "metadata": {},
   "outputs": [
    {
     "data": {
      "text/plain": [
       "1265521"
      ]
     },
     "execution_count": 55,
     "metadata": {},
     "output_type": "execute_result"
    }
   ],
   "source": [
    "df_uv['pageId'].nunique()"
   ]
  },
  {
   "cell_type": "code",
   "execution_count": 56,
   "metadata": {},
   "outputs": [
    {
     "data": {
      "text/plain": [
       "188417"
      ]
     },
     "execution_count": 56,
     "metadata": {},
     "output_type": "execute_result"
    }
   ],
   "source": [
    "df_ev['pageId'].nunique()"
   ]
  },
  {
   "cell_type": "code",
   "execution_count": 4,
   "metadata": {},
   "outputs": [],
   "source": [
    "df_uvg = df_uv.groupby(['userId','pageId']).agg({'timestamp':'count'}).reset_index()"
   ]
  },
  {
   "cell_type": "code",
   "execution_count": 42,
   "metadata": {},
   "outputs": [],
   "source": [
    "df_evg = df_ev.groupby(['userId','pageId']).agg({'timestamp':'count'}).reset_index()"
   ]
  },
  {
   "cell_type": "code",
   "execution_count": 57,
   "metadata": {},
   "outputs": [
    {
     "data": {
      "text/html": [
       "<div>\n",
       "<style scoped>\n",
       "    .dataframe tbody tr th:only-of-type {\n",
       "        vertical-align: middle;\n",
       "    }\n",
       "\n",
       "    .dataframe tbody tr th {\n",
       "        vertical-align: top;\n",
       "    }\n",
       "\n",
       "    .dataframe thead th {\n",
       "        text-align: right;\n",
       "    }\n",
       "</style>\n",
       "<table border=\"1\" class=\"dataframe\">\n",
       "  <thead>\n",
       "    <tr style=\"text-align: right;\">\n",
       "      <th></th>\n",
       "      <th>userId</th>\n",
       "      <th>pageId</th>\n",
       "      <th>click_number</th>\n",
       "    </tr>\n",
       "  </thead>\n",
       "  <tbody>\n",
       "    <tr>\n",
       "      <td>409842</td>\n",
       "      <td>966002</td>\n",
       "      <td>9236347</td>\n",
       "      <td>1</td>\n",
       "    </tr>\n",
       "    <tr>\n",
       "      <td>285546</td>\n",
       "      <td>653019</td>\n",
       "      <td>9742835</td>\n",
       "      <td>1</td>\n",
       "    </tr>\n",
       "    <tr>\n",
       "      <td>937645</td>\n",
       "      <td>2619089</td>\n",
       "      <td>6293869</td>\n",
       "      <td>1</td>\n",
       "    </tr>\n",
       "    <tr>\n",
       "      <td>653449</td>\n",
       "      <td>1730421</td>\n",
       "      <td>7776612</td>\n",
       "      <td>1</td>\n",
       "    </tr>\n",
       "    <tr>\n",
       "      <td>337358</td>\n",
       "      <td>777770</td>\n",
       "      <td>9575312</td>\n",
       "      <td>1</td>\n",
       "    </tr>\n",
       "    <tr>\n",
       "      <td>811749</td>\n",
       "      <td>2213276</td>\n",
       "      <td>5946</td>\n",
       "      <td>1</td>\n",
       "    </tr>\n",
       "    <tr>\n",
       "      <td>562496</td>\n",
       "      <td>1445179</td>\n",
       "      <td>8249519</td>\n",
       "      <td>1</td>\n",
       "    </tr>\n",
       "    <tr>\n",
       "      <td>492968</td>\n",
       "      <td>1214949</td>\n",
       "      <td>6591079</td>\n",
       "      <td>1</td>\n",
       "    </tr>\n",
       "    <tr>\n",
       "      <td>807092</td>\n",
       "      <td>2192533</td>\n",
       "      <td>4141373</td>\n",
       "      <td>1</td>\n",
       "    </tr>\n",
       "    <tr>\n",
       "      <td>476938</td>\n",
       "      <td>1172174</td>\n",
       "      <td>8927437</td>\n",
       "      <td>1</td>\n",
       "    </tr>\n",
       "  </tbody>\n",
       "</table>\n",
       "</div>"
      ],
      "text/plain": [
       "         userId   pageId  click_number\n",
       "409842   966002  9236347             1\n",
       "285546   653019  9742835             1\n",
       "937645  2619089  6293869             1\n",
       "653449  1730421  7776612             1\n",
       "337358   777770  9575312             1\n",
       "811749  2213276     5946             1\n",
       "562496  1445179  8249519             1\n",
       "492968  1214949  6591079             1\n",
       "807092  2192533  4141373             1\n",
       "476938  1172174  8927437             1"
      ]
     },
     "execution_count": 57,
     "metadata": {},
     "output_type": "execute_result"
    }
   ],
   "source": [
    "df_evg.rename(columns={'timestamp': 'click_number'}, inplace=True)\n",
    "df_evg.sample(10)"
   ]
  },
  {
   "cell_type": "code",
   "execution_count": 5,
   "metadata": {},
   "outputs": [
    {
     "data": {
      "text/html": [
       "<div>\n",
       "<style scoped>\n",
       "    .dataframe tbody tr th:only-of-type {\n",
       "        vertical-align: middle;\n",
       "    }\n",
       "\n",
       "    .dataframe tbody tr th {\n",
       "        vertical-align: top;\n",
       "    }\n",
       "\n",
       "    .dataframe thead th {\n",
       "        text-align: right;\n",
       "    }\n",
       "</style>\n",
       "<table border=\"1\" class=\"dataframe\">\n",
       "  <thead>\n",
       "    <tr style=\"text-align: right;\">\n",
       "      <th></th>\n",
       "      <th>userId</th>\n",
       "      <th>pageId</th>\n",
       "      <th>visit_number</th>\n",
       "    </tr>\n",
       "  </thead>\n",
       "  <tbody>\n",
       "    <tr>\n",
       "      <td>5248829</td>\n",
       "      <td>284912</td>\n",
       "      <td>7040782</td>\n",
       "      <td>2</td>\n",
       "    </tr>\n",
       "    <tr>\n",
       "      <td>20142040</td>\n",
       "      <td>1450156</td>\n",
       "      <td>7549561</td>\n",
       "      <td>1</td>\n",
       "    </tr>\n",
       "    <tr>\n",
       "      <td>27004024</td>\n",
       "      <td>2198964</td>\n",
       "      <td>8708006</td>\n",
       "      <td>1</td>\n",
       "    </tr>\n",
       "    <tr>\n",
       "      <td>10163907</td>\n",
       "      <td>616425</td>\n",
       "      <td>6568922</td>\n",
       "      <td>2</td>\n",
       "    </tr>\n",
       "    <tr>\n",
       "      <td>19755961</td>\n",
       "      <td>1406204</td>\n",
       "      <td>8240599</td>\n",
       "      <td>2</td>\n",
       "    </tr>\n",
       "    <tr>\n",
       "      <td>4535667</td>\n",
       "      <td>235253</td>\n",
       "      <td>7951327</td>\n",
       "      <td>9</td>\n",
       "    </tr>\n",
       "    <tr>\n",
       "      <td>5361403</td>\n",
       "      <td>292834</td>\n",
       "      <td>7361406</td>\n",
       "      <td>1</td>\n",
       "    </tr>\n",
       "    <tr>\n",
       "      <td>6289239</td>\n",
       "      <td>348472</td>\n",
       "      <td>7729197</td>\n",
       "      <td>1</td>\n",
       "    </tr>\n",
       "    <tr>\n",
       "      <td>1440036</td>\n",
       "      <td>79727</td>\n",
       "      <td>7470217</td>\n",
       "      <td>1</td>\n",
       "    </tr>\n",
       "    <tr>\n",
       "      <td>19295654</td>\n",
       "      <td>1346962</td>\n",
       "      <td>6990014</td>\n",
       "      <td>3</td>\n",
       "    </tr>\n",
       "  </tbody>\n",
       "</table>\n",
       "</div>"
      ],
      "text/plain": [
       "           userId   pageId  visit_number\n",
       "5248829    284912  7040782             2\n",
       "20142040  1450156  7549561             1\n",
       "27004024  2198964  8708006             1\n",
       "10163907   616425  6568922             2\n",
       "19755961  1406204  8240599             2\n",
       "4535667    235253  7951327             9\n",
       "5361403    292834  7361406             1\n",
       "6289239    348472  7729197             1\n",
       "1440036     79727  7470217             1\n",
       "19295654  1346962  6990014             3"
      ]
     },
     "execution_count": 5,
     "metadata": {},
     "output_type": "execute_result"
    }
   ],
   "source": [
    "df_uvg.rename(columns={'timestamp': 'visit_number'}, inplace=True)\n",
    "df_uvg.sample(10)"
   ]
  },
  {
   "cell_type": "code",
   "execution_count": 51,
   "metadata": {},
   "outputs": [
    {
     "data": {
      "text/plain": [
       "15287"
      ]
     },
     "execution_count": 51,
     "metadata": {},
     "output_type": "execute_result"
    }
   ],
   "source": [
    "df_uvg['visit_number'].max()"
   ]
  },
  {
   "cell_type": "code",
   "execution_count": 58,
   "metadata": {},
   "outputs": [],
   "source": [
    "df_new = pd.merge(df_evg, df_uvg, how = 'inner', on = ['pageId','userId'])"
   ]
  },
  {
   "cell_type": "code",
   "execution_count": 40,
   "metadata": {},
   "outputs": [
    {
     "name": "stdout",
     "output_type": "stream",
     "text": [
      "<class 'pandas.core.frame.DataFrame'>\n",
      "Int64Index: 835634 entries, 0 to 835633\n",
      "Data columns (total 9 columns):\n",
      "displayId       835634 non-null int64\n",
      "timestamp       835634 non-null int64\n",
      "pageId          835634 non-null int64\n",
      "widgetId        835634 non-null int64\n",
      "userId          835634 non-null int64\n",
      "device          835634 non-null int64\n",
      "OS              835634 non-null int64\n",
      "browser         835634 non-null int64\n",
      "visit_number    835634 non-null int64\n",
      "dtypes: int64(9)\n",
      "memory usage: 63.8 MB\n"
     ]
    }
   ],
   "source": [
    "df_new.info()"
   ]
  },
  {
   "cell_type": "code",
   "execution_count": 60,
   "metadata": {},
   "outputs": [
    {
     "data": {
      "text/html": [
       "<div>\n",
       "<style scoped>\n",
       "    .dataframe tbody tr th:only-of-type {\n",
       "        vertical-align: middle;\n",
       "    }\n",
       "\n",
       "    .dataframe tbody tr th {\n",
       "        vertical-align: top;\n",
       "    }\n",
       "\n",
       "    .dataframe thead th {\n",
       "        text-align: right;\n",
       "    }\n",
       "</style>\n",
       "<table border=\"1\" class=\"dataframe\">\n",
       "  <thead>\n",
       "    <tr style=\"text-align: right;\">\n",
       "      <th></th>\n",
       "      <th>userId</th>\n",
       "      <th>pageId</th>\n",
       "      <th>click_number</th>\n",
       "      <th>visit_number</th>\n",
       "    </tr>\n",
       "  </thead>\n",
       "  <tbody>\n",
       "    <tr>\n",
       "      <td>293792</td>\n",
       "      <td>1292744</td>\n",
       "      <td>7364449</td>\n",
       "      <td>2</td>\n",
       "      <td>5</td>\n",
       "    </tr>\n",
       "    <tr>\n",
       "      <td>154609</td>\n",
       "      <td>865298</td>\n",
       "      <td>9000588</td>\n",
       "      <td>1</td>\n",
       "      <td>1</td>\n",
       "    </tr>\n",
       "    <tr>\n",
       "      <td>223743</td>\n",
       "      <td>1077655</td>\n",
       "      <td>8584670</td>\n",
       "      <td>1</td>\n",
       "      <td>1</td>\n",
       "    </tr>\n",
       "    <tr>\n",
       "      <td>449493</td>\n",
       "      <td>1796480</td>\n",
       "      <td>6996524</td>\n",
       "      <td>1</td>\n",
       "      <td>1</td>\n",
       "    </tr>\n",
       "    <tr>\n",
       "      <td>23509</td>\n",
       "      <td>140787</td>\n",
       "      <td>6376615</td>\n",
       "      <td>1</td>\n",
       "      <td>2</td>\n",
       "    </tr>\n",
       "    <tr>\n",
       "      <td>506307</td>\n",
       "      <td>1964083</td>\n",
       "      <td>21048</td>\n",
       "      <td>1</td>\n",
       "      <td>2</td>\n",
       "    </tr>\n",
       "    <tr>\n",
       "      <td>303918</td>\n",
       "      <td>1319126</td>\n",
       "      <td>7748115</td>\n",
       "      <td>1</td>\n",
       "      <td>2</td>\n",
       "    </tr>\n",
       "    <tr>\n",
       "      <td>569884</td>\n",
       "      <td>2143559</td>\n",
       "      <td>4094218</td>\n",
       "      <td>1</td>\n",
       "      <td>2</td>\n",
       "    </tr>\n",
       "    <tr>\n",
       "      <td>640101</td>\n",
       "      <td>2368966</td>\n",
       "      <td>31814</td>\n",
       "      <td>1</td>\n",
       "      <td>1</td>\n",
       "    </tr>\n",
       "    <tr>\n",
       "      <td>58294</td>\n",
       "      <td>366370</td>\n",
       "      <td>8533409</td>\n",
       "      <td>1</td>\n",
       "      <td>2</td>\n",
       "    </tr>\n",
       "  </tbody>\n",
       "</table>\n",
       "</div>"
      ],
      "text/plain": [
       "         userId   pageId  click_number  visit_number\n",
       "293792  1292744  7364449             2             5\n",
       "154609   865298  9000588             1             1\n",
       "223743  1077655  8584670             1             1\n",
       "449493  1796480  6996524             1             1\n",
       "23509    140787  6376615             1             2\n",
       "506307  1964083    21048             1             2\n",
       "303918  1319126  7748115             1             2\n",
       "569884  2143559  4094218             1             2\n",
       "640101  2368966    31814             1             1\n",
       "58294    366370  8533409             1             2"
      ]
     },
     "execution_count": 60,
     "metadata": {},
     "output_type": "execute_result"
    }
   ],
   "source": [
    "df_new.sample(10)"
   ]
  },
  {
   "cell_type": "code",
   "execution_count": 6,
   "metadata": {},
   "outputs": [
    {
     "data": {
      "text/html": [
       "<div>\n",
       "<style scoped>\n",
       "    .dataframe tbody tr th:only-of-type {\n",
       "        vertical-align: middle;\n",
       "    }\n",
       "\n",
       "    .dataframe tbody tr th {\n",
       "        vertical-align: top;\n",
       "    }\n",
       "\n",
       "    .dataframe thead th {\n",
       "        text-align: right;\n",
       "    }\n",
       "</style>\n",
       "<table border=\"1\" class=\"dataframe\">\n",
       "  <thead>\n",
       "    <tr style=\"text-align: right;\">\n",
       "      <th></th>\n",
       "      <th>userId</th>\n",
       "      <th>pageId</th>\n",
       "      <th>visit_number</th>\n",
       "      <th>topicId</th>\n",
       "      <th>confidence</th>\n",
       "    </tr>\n",
       "  </thead>\n",
       "  <tbody>\n",
       "    <tr>\n",
       "      <td>14466058</td>\n",
       "      <td>1019718</td>\n",
       "      <td>197</td>\n",
       "      <td>6</td>\n",
       "      <td>37</td>\n",
       "      <td>0.022959</td>\n",
       "    </tr>\n",
       "    <tr>\n",
       "      <td>31348308</td>\n",
       "      <td>297563</td>\n",
       "      <td>8377233</td>\n",
       "      <td>1</td>\n",
       "      <td>10</td>\n",
       "      <td>0.558779</td>\n",
       "    </tr>\n",
       "    <tr>\n",
       "      <td>84460340</td>\n",
       "      <td>611734</td>\n",
       "      <td>6303202</td>\n",
       "      <td>1</td>\n",
       "      <td>40</td>\n",
       "      <td>0.025093</td>\n",
       "    </tr>\n",
       "    <tr>\n",
       "      <td>32043117</td>\n",
       "      <td>1084807</td>\n",
       "      <td>7922541</td>\n",
       "      <td>1</td>\n",
       "      <td>24</td>\n",
       "      <td>0.036046</td>\n",
       "    </tr>\n",
       "    <tr>\n",
       "      <td>24556551</td>\n",
       "      <td>34399</td>\n",
       "      <td>7951112</td>\n",
       "      <td>1</td>\n",
       "      <td>7</td>\n",
       "      <td>0.441412</td>\n",
       "    </tr>\n",
       "    <tr>\n",
       "      <td>20082935</td>\n",
       "      <td>574426</td>\n",
       "      <td>6278960</td>\n",
       "      <td>1</td>\n",
       "      <td>12</td>\n",
       "      <td>0.010374</td>\n",
       "    </tr>\n",
       "    <tr>\n",
       "      <td>12915073</td>\n",
       "      <td>1049395</td>\n",
       "      <td>7966673</td>\n",
       "      <td>6</td>\n",
       "      <td>1</td>\n",
       "      <td>0.043527</td>\n",
       "    </tr>\n",
       "    <tr>\n",
       "      <td>67283378</td>\n",
       "      <td>1862030</td>\n",
       "      <td>57556</td>\n",
       "      <td>1</td>\n",
       "      <td>44</td>\n",
       "      <td>0.120335</td>\n",
       "    </tr>\n",
       "    <tr>\n",
       "      <td>59524077</td>\n",
       "      <td>197699</td>\n",
       "      <td>5733482</td>\n",
       "      <td>3</td>\n",
       "      <td>17</td>\n",
       "      <td>0.073100</td>\n",
       "    </tr>\n",
       "    <tr>\n",
       "      <td>82568625</td>\n",
       "      <td>631392</td>\n",
       "      <td>8245135</td>\n",
       "      <td>1</td>\n",
       "      <td>7</td>\n",
       "      <td>0.486227</td>\n",
       "    </tr>\n",
       "  </tbody>\n",
       "</table>\n",
       "</div>"
      ],
      "text/plain": [
       "           userId   pageId  visit_number  topicId  confidence\n",
       "14466058  1019718      197             6       37    0.022959\n",
       "31348308   297563  8377233             1       10    0.558779\n",
       "84460340   611734  6303202             1       40    0.025093\n",
       "32043117  1084807  7922541             1       24    0.036046\n",
       "24556551    34399  7951112             1        7    0.441412\n",
       "20082935   574426  6278960             1       12    0.010374\n",
       "12915073  1049395  7966673             6        1    0.043527\n",
       "67283378  1862030    57556             1       44    0.120335\n",
       "59524077   197699  5733482             3       17    0.073100\n",
       "82568625   631392  8245135             1        7    0.486227"
      ]
     },
     "execution_count": 6,
     "metadata": {},
     "output_type": "execute_result"
    }
   ],
   "source": [
    "df_new_2 = pd.merge(df_uvg, df_pg, how = 'inner', on = 'pageId')\n",
    "df_new_2.sample(10)"
   ]
  },
  {
   "cell_type": "code",
   "execution_count": 7,
   "metadata": {},
   "outputs": [
    {
     "name": "stdout",
     "output_type": "stream",
     "text": [
      "<class 'pandas.core.frame.DataFrame'>\n",
      "Int64Index: 99000107 entries, 0 to 99000106\n",
      "Data columns (total 5 columns):\n",
      "userId          int64\n",
      "pageId          int64\n",
      "visit_number    int64\n",
      "topicId         int64\n",
      "confidence      float64\n",
      "dtypes: float64(1), int64(4)\n",
      "memory usage: 4.4 GB\n"
     ]
    }
   ],
   "source": [
    "df_new_2.info()"
   ]
  },
  {
   "cell_type": "code",
   "execution_count": 8,
   "metadata": {},
   "outputs": [],
   "source": [
    "df_new_2['VC'] = df_new_2['visit_number'] * df_new_2['confidence']"
   ]
  },
  {
   "cell_type": "code",
   "execution_count": 9,
   "metadata": {},
   "outputs": [],
   "source": [
    "user_feature = df_new_2.groupby(['userId','topicId']).\\\n",
    "                                        agg({'VC':'sum'}).reset_index()"
   ]
  },
  {
   "cell_type": "code",
   "execution_count": 10,
   "metadata": {},
   "outputs": [
    {
     "data": {
      "text/html": [
       "<div>\n",
       "<style scoped>\n",
       "    .dataframe tbody tr th:only-of-type {\n",
       "        vertical-align: middle;\n",
       "    }\n",
       "\n",
       "    .dataframe tbody tr th {\n",
       "        vertical-align: top;\n",
       "    }\n",
       "\n",
       "    .dataframe thead th {\n",
       "        text-align: right;\n",
       "    }\n",
       "</style>\n",
       "<table border=\"1\" class=\"dataframe\">\n",
       "  <thead>\n",
       "    <tr style=\"text-align: right;\">\n",
       "      <th></th>\n",
       "      <th>userId</th>\n",
       "      <th>topicId</th>\n",
       "      <th>VC</th>\n",
       "    </tr>\n",
       "  </thead>\n",
       "  <tbody>\n",
       "    <tr>\n",
       "      <td>13667967</td>\n",
       "      <td>1914601</td>\n",
       "      <td>42</td>\n",
       "      <td>3.349052</td>\n",
       "    </tr>\n",
       "    <tr>\n",
       "      <td>2274605</td>\n",
       "      <td>295767</td>\n",
       "      <td>48</td>\n",
       "      <td>1.279326</td>\n",
       "    </tr>\n",
       "    <tr>\n",
       "      <td>15100750</td>\n",
       "      <td>2130264</td>\n",
       "      <td>47</td>\n",
       "      <td>2.430341</td>\n",
       "    </tr>\n",
       "    <tr>\n",
       "      <td>779116</td>\n",
       "      <td>110025</td>\n",
       "      <td>30</td>\n",
       "      <td>0.025878</td>\n",
       "    </tr>\n",
       "    <tr>\n",
       "      <td>6890716</td>\n",
       "      <td>883095</td>\n",
       "      <td>31</td>\n",
       "      <td>0.195412</td>\n",
       "    </tr>\n",
       "    <tr>\n",
       "      <td>6768514</td>\n",
       "      <td>865869</td>\n",
       "      <td>32</td>\n",
       "      <td>0.205327</td>\n",
       "    </tr>\n",
       "    <tr>\n",
       "      <td>7239775</td>\n",
       "      <td>936372</td>\n",
       "      <td>35</td>\n",
       "      <td>1.371908</td>\n",
       "    </tr>\n",
       "    <tr>\n",
       "      <td>1051317</td>\n",
       "      <td>140572</td>\n",
       "      <td>3</td>\n",
       "      <td>0.560390</td>\n",
       "    </tr>\n",
       "    <tr>\n",
       "      <td>1870516</td>\n",
       "      <td>238145</td>\n",
       "      <td>45</td>\n",
       "      <td>1.027537</td>\n",
       "    </tr>\n",
       "    <tr>\n",
       "      <td>2324531</td>\n",
       "      <td>302679</td>\n",
       "      <td>31</td>\n",
       "      <td>0.178736</td>\n",
       "    </tr>\n",
       "  </tbody>\n",
       "</table>\n",
       "</div>"
      ],
      "text/plain": [
       "           userId  topicId        VC\n",
       "13667967  1914601       42  3.349052\n",
       "2274605    295767       48  1.279326\n",
       "15100750  2130264       47  2.430341\n",
       "779116     110025       30  0.025878\n",
       "6890716    883095       31  0.195412\n",
       "6768514    865869       32  0.205327\n",
       "7239775    936372       35  1.371908\n",
       "1051317    140572        3  0.560390\n",
       "1870516    238145       45  1.027537\n",
       "2324531    302679       31  0.178736"
      ]
     },
     "execution_count": 10,
     "metadata": {},
     "output_type": "execute_result"
    }
   ],
   "source": [
    "user_feature.sample(10)"
   ]
  },
  {
   "cell_type": "code",
   "execution_count": 13,
   "metadata": {},
   "outputs": [
    {
     "data": {
      "text/plain": [
       "292.89306339393767"
      ]
     },
     "execution_count": 13,
     "metadata": {},
     "output_type": "execute_result"
    }
   ],
   "source": [
    "user_feature['VC'].var()"
   ]
  },
  {
   "cell_type": "code",
   "execution_count": 12,
   "metadata": {},
   "outputs": [
    {
     "name": "stdout",
     "output_type": "stream",
     "text": [
      "<class 'pandas.core.frame.DataFrame'>\n",
      "RangeIndex: 18361114 entries, 0 to 18361113\n",
      "Data columns (total 3 columns):\n",
      "userId     int64\n",
      "topicId    int64\n",
      "VC         float64\n",
      "dtypes: float64(1), int64(2)\n",
      "memory usage: 420.3 MB\n"
     ]
    }
   ],
   "source": [
    "user_feature.info()"
   ]
  },
  {
   "cell_type": "code",
   "execution_count": 14,
   "metadata": {},
   "outputs": [],
   "source": [
    "user_feature.to_csv('user_feature.csv')"
   ]
  }
 ],
 "metadata": {
  "kernelspec": {
   "display_name": "Python 3",
   "language": "python",
   "name": "python3"
  },
  "language_info": {
   "codemirror_mode": {
    "name": "ipython",
    "version": 3
   },
   "file_extension": ".py",
   "mimetype": "text/x-python",
   "name": "python",
   "nbconvert_exporter": "python",
   "pygments_lexer": "ipython3",
   "version": "3.7.4"
  }
 },
 "nbformat": 4,
 "nbformat_minor": 2
}
